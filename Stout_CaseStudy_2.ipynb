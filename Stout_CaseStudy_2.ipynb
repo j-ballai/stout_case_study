{
 "cells": [
  {
   "cell_type": "code",
   "execution_count": null,
   "metadata": {},
   "outputs": [],
   "source": [
    "import pandas as pd\n",
    "import math\n",
    "import hashlib\n",
    "import numpy as np\n",
    "\n",
    "# Read in CSV file with proper Headers\n",
    "orders = pd.read_csv('casestudy.csv')\n",
    "orders.columns = [\"index\", \"CUSTOMER_EMAIL\", \"Net Revenue\", \"Year\"]\n",
    "\n",
    "# Drop duplicate index column\n",
    "orders = orders.drop(['index'], axis = 1)\n",
    "\n",
    "# Create unique hash identifiers for each customer email\n",
    "orders['CUSTOMER_EMAIL'] = orders['CUSTOMER_EMAIL'].apply(lambda x: hashlib.sha256(x.encode()).hexdigest())\n",
    "\n",
    "orders.head()"
   ]
  },
  {
   "cell_type": "code",
   "execution_count": 8,
   "metadata": {},
   "outputs": [
    {
     "data": {
      "text/plain": [
       "CUSTOMER_EMAIL    249987\n",
       "Net Revenue       249987\n",
       "Year              249987\n",
       "dtype: int64"
      ]
     },
     "execution_count": 8,
     "metadata": {},
     "output_type": "execute_result"
    }
   ],
   "source": [
    "# Now that we have a dataframe containing index, email (encoded), net revenue, and year, we can move on\n",
    "#  We will begin by creating segmented dataframes for each year, so 3 new dataframes\n",
    "\n",
    "orders2017 = orders.loc[orders['Year'] == 2017]\n",
    "orders2016 = orders.loc[orders['Year'] == 2016]\n",
    "orders2015 = orders.loc[orders['Year'] == 2015]\n",
    "\n",
    "\n",
    "#  Although unnamed, it should be okay that I dropped the duplicate 'index' column because the values are unchanged even after being segmented\n",
    "orders2017.count()"
   ]
  },
  {
   "cell_type": "code",
   "execution_count": 9,
   "metadata": {},
   "outputs": [
    {
     "data": {
      "text/html": [
       "<div>\n",
       "<style scoped>\n",
       "    .dataframe tbody tr th:only-of-type {\n",
       "        vertical-align: middle;\n",
       "    }\n",
       "\n",
       "    .dataframe tbody tr th {\n",
       "        vertical-align: top;\n",
       "    }\n",
       "\n",
       "    .dataframe thead th {\n",
       "        text-align: right;\n",
       "    }\n",
       "</style>\n",
       "<table border=\"1\" class=\"dataframe\">\n",
       "  <thead>\n",
       "    <tr style=\"text-align: right;\">\n",
       "      <th></th>\n",
       "      <th>2015</th>\n",
       "      <th>2016</th>\n",
       "      <th>2017</th>\n",
       "    </tr>\n",
       "  </thead>\n",
       "  <tbody>\n",
       "    <tr>\n",
       "      <th>Total Revenue</th>\n",
       "      <td>29036749.19</td>\n",
       "      <td>25730943.59</td>\n",
       "      <td>31417495.03</td>\n",
       "    </tr>\n",
       "  </tbody>\n",
       "</table>\n",
       "</div>"
      ],
      "text/plain": [
       "                      2015         2016         2017\n",
       "Total Revenue  29036749.19  25730943.59  31417495.03"
      ]
     },
     "execution_count": 9,
     "metadata": {},
     "output_type": "execute_result"
    }
   ],
   "source": [
    "#######   Metrics are for each year   #######\n",
    "\n",
    "## Total Revenue for the Current Year\n",
    "total_rev2015 = orders2015['Net Revenue'].sum()\n",
    "total_rev2016 = orders2016['Net Revenue'].sum()\n",
    "total_rev2017 = orders2017['Net Revenue'].sum()\n",
    "\n",
    "total_rev = pd.DataFrame({'2015': [total_rev2015],\n",
    "                   '2016': [total_rev2016],\n",
    "                   '2017': [total_rev2017]},\n",
    "                  index=['Total Revenue'])\n",
    "#total_rev = pd.DataFrame([total_rev2015, total_rev2016, total_rev2015])\n",
    "#total_rev.columns = ['Total Revenue']\n",
    "\n",
    "total_rev\n"
   ]
  },
  {
   "cell_type": "code",
   "execution_count": 91,
   "metadata": {},
   "outputs": [
    {
     "data": {
      "text/html": [
       "<div>\n",
       "<style scoped>\n",
       "    .dataframe tbody tr th:only-of-type {\n",
       "        vertical-align: middle;\n",
       "    }\n",
       "\n",
       "    .dataframe tbody tr th {\n",
       "        vertical-align: top;\n",
       "    }\n",
       "\n",
       "    .dataframe thead th {\n",
       "        text-align: right;\n",
       "    }\n",
       "</style>\n",
       "<table border=\"1\" class=\"dataframe\">\n",
       "  <thead>\n",
       "    <tr style=\"text-align: right;\">\n",
       "      <th></th>\n",
       "      <th>2015</th>\n",
       "      <th>2016</th>\n",
       "      <th>2017</th>\n",
       "    </tr>\n",
       "  </thead>\n",
       "  <tbody>\n",
       "    <tr>\n",
       "      <th>New Customer Revenue</th>\n",
       "      <td>0</td>\n",
       "      <td>18245491.01</td>\n",
       "      <td>28776235.04</td>\n",
       "    </tr>\n",
       "  </tbody>\n",
       "</table>\n",
       "</div>"
      ],
      "text/plain": [
       "                      2015         2016         2017\n",
       "New Customer Revenue     0  18245491.01  28776235.04"
      ]
     },
     "execution_count": 91,
     "metadata": {},
     "output_type": "execute_result"
    }
   ],
   "source": [
    "#  New Customer Revenue e.g., new customers not present in previous year only\n",
    "\n",
    "new_customer_orders2016 = orders2016\n",
    "new_customer_orders2017 = orders2017\n",
    "emails2015 = orders2015['CUSTOMER_EMAIL']\n",
    "emails2016 = orders2016['CUSTOMER_EMAIL']\n",
    "emails2017 = orders2017['CUSTOMER_EMAIL']\n",
    "new_list2016 = list(set(emails2016) - set(emails2015))\n",
    "new_list2017 = list(set(emails2017) - set(emails2016))\n",
    "\n",
    "new_customer_orders2016 = new_customer_orders2016[(emails2016.isin(new_list2016) == True)]\n",
    "new_customer_orders2017 = new_customer_orders2017[(emails2017.isin(new_list2017) == True)]\n",
    "new_rev2016 = new_customer_orders2016['Net Revenue'].sum()\n",
    "new_rev2017 = new_customer_orders2017['Net Revenue'].sum()\n",
    "\n",
    "new_rev = pd.DataFrame({'2015': [0],\n",
    "                   '2016': [new_rev2016],\n",
    "                   '2017': [new_rev2017]},\n",
    "                  index=['New Customer Revenue'])\n",
    "#total_rev = pd.DataFrame([total_rev2015, total_rev2016, total_rev2015])\n",
    "#total_rev.columns = ['Total Revenue']\n",
    "\n",
    "new_rev"
   ]
  },
  {
   "cell_type": "code",
   "execution_count": 68,
   "metadata": {},
   "outputs": [
    {
     "data": {
      "text/html": [
       "<div>\n",
       "<style scoped>\n",
       "    .dataframe tbody tr th:only-of-type {\n",
       "        vertical-align: middle;\n",
       "    }\n",
       "\n",
       "    .dataframe tbody tr th {\n",
       "        vertical-align: top;\n",
       "    }\n",
       "\n",
       "    .dataframe thead th {\n",
       "        text-align: right;\n",
       "    }\n",
       "</style>\n",
       "<table border=\"1\" class=\"dataframe\">\n",
       "  <thead>\n",
       "    <tr style=\"text-align: right;\">\n",
       "      <th></th>\n",
       "      <th>2016</th>\n",
       "      <th>2017</th>\n",
       "    </tr>\n",
       "  </thead>\n",
       "  <tbody>\n",
       "    <tr>\n",
       "      <th>Existing Customer Growth</th>\n",
       "      <td>0.272406</td>\n",
       "      <td>120.581361</td>\n",
       "    </tr>\n",
       "  </tbody>\n",
       "</table>\n",
       "</div>"
      ],
      "text/plain": [
       "                              2016        2017\n",
       "Existing Customer Growth  0.272406  120.581361"
      ]
     },
     "execution_count": 68,
     "metadata": {},
     "output_type": "execute_result"
    }
   ],
   "source": [
    "#  Existing Customer Growth\n",
    "existing_list2016 = list(set(emails2016) - (set(emails2016) - set(emails2015)))\n",
    "ex_customer_orders2016 = orders2016[(emails2016.isin(existing_list2016) == True)]\n",
    "ex_helper2015 = orders2015[(emails2015.isin(existing_list2016) == True)]\n",
    "ex_cust_growth2016 = ((ex_customer_orders2016['Net Revenue'].sum() - ex_helper2015['Net Revenue'].sum()) / ex_helper2015['Net Revenue'].sum()) * 100\n",
    "ex_cust_growth2016  \n",
    "\n",
    "existing_list2017 = list(set(emails2017) - (set(emails2017) - set(emails2016)))\n",
    "ex_customer_orders2017 = orders2017[(emails2017.isin(existing_list2017) == True)]\n",
    "ex_helper2016 = orders2016[(emails2016.isin(existing_list2017) == True)]\n",
    "ex_helper2015_2 = orders2015[(emails2015.isin(existing_list2017) == True)]   # To account for existing customers from both years\n",
    "\n",
    "ex_cust_growth2017 = ((ex_customer_orders2016['Net Revenue'].sum() - ex_helper2015_2['Net Revenue'].sum() \n",
    "                    - ex_helper2016['Net Revenue'].sum()) / (ex_helper2015_2['Net Revenue'].sum()+ ex_helper2016['Net Revenue'].sum())) * 100\n",
    "ex_cust_growth2017\n",
    "\n",
    "\n",
    "ex_growth = pd.DataFrame({'2016': [ex_cust_growth2016],\n",
    "                   '2017': [ex_cust_growth2017],\n",
    "                   },\n",
    "                  index=['Existing Customer Growth'])\n",
    "ex_growth"
   ]
  },
  {
   "cell_type": "code",
   "execution_count": 71,
   "metadata": {},
   "outputs": [
    {
     "data": {
      "text/html": [
       "<div>\n",
       "<style scoped>\n",
       "    .dataframe tbody tr th:only-of-type {\n",
       "        vertical-align: middle;\n",
       "    }\n",
       "\n",
       "    .dataframe tbody tr th {\n",
       "        vertical-align: top;\n",
       "    }\n",
       "\n",
       "    .dataframe thead th {\n",
       "        text-align: right;\n",
       "    }\n",
       "</style>\n",
       "<table border=\"1\" class=\"dataframe\">\n",
       "  <thead>\n",
       "    <tr style=\"text-align: right;\">\n",
       "      <th></th>\n",
       "      <th>2016</th>\n",
       "      <th>2017</th>\n",
       "    </tr>\n",
       "  </thead>\n",
       "  <tbody>\n",
       "    <tr>\n",
       "      <th>Attrition</th>\n",
       "      <td>0.113849</td>\n",
       "      <td>-0.221001</td>\n",
       "    </tr>\n",
       "  </tbody>\n",
       "</table>\n",
       "</div>"
      ],
      "text/plain": [
       "               2016      2017\n",
       "Attrition  0.113849 -0.221001"
      ]
     },
     "execution_count": 71,
     "metadata": {},
     "output_type": "execute_result"
    }
   ],
   "source": [
    "# Revenue Lost from Attrition\n",
    "# The formula I used for this is: (prev year rev - current year rev) / prev year rev\n",
    "attrition2016 = (orders2015['Net Revenue'].sum() - orders2016['Net Revenue'].sum()) / orders2015['Net Revenue'].sum()\n",
    "attrition2017 = (orders2016['Net Revenue'].sum() - orders2017['Net Revenue'].sum()) / orders2016['Net Revenue'].sum()\n",
    "\n",
    "attrition = pd.DataFrame({'2016': [attrition2016],\n",
    "                   '2017': [attrition2017],\n",
    "                   },\n",
    "                  index=['Attrition'])\n",
    "attrition"
   ]
  },
  {
   "cell_type": "code",
   "execution_count": 72,
   "metadata": {},
   "outputs": [
    {
     "data": {
      "text/html": [
       "<div>\n",
       "<style scoped>\n",
       "    .dataframe tbody tr th:only-of-type {\n",
       "        vertical-align: middle;\n",
       "    }\n",
       "\n",
       "    .dataframe tbody tr th {\n",
       "        vertical-align: top;\n",
       "    }\n",
       "\n",
       "    .dataframe thead th {\n",
       "        text-align: right;\n",
       "    }\n",
       "</style>\n",
       "<table border=\"1\" class=\"dataframe\">\n",
       "  <thead>\n",
       "    <tr style=\"text-align: right;\">\n",
       "      <th></th>\n",
       "      <th>2016</th>\n",
       "      <th>2017</th>\n",
       "    </tr>\n",
       "  </thead>\n",
       "  <tbody>\n",
       "    <tr>\n",
       "      <th>Existing Customer Revenue (Current Year)</th>\n",
       "      <td>7485452.58</td>\n",
       "      <td>2641259.99</td>\n",
       "    </tr>\n",
       "  </tbody>\n",
       "</table>\n",
       "</div>"
      ],
      "text/plain": [
       "                                                2016        2017\n",
       "Existing Customer Revenue (Current Year)  7485452.58  2641259.99"
      ]
     },
     "execution_count": 72,
     "metadata": {},
     "output_type": "execute_result"
    }
   ],
   "source": [
    "# Existing Customer Revenue Current Year\n",
    "ex_cust_rev2016 = ex_customer_orders2016['Net Revenue'].sum()\n",
    "ex_cust_rev2017 = ex_customer_orders2017['Net Revenue'].sum()\n",
    "\n",
    "ex_cust_rev = pd.DataFrame({'2016': [ex_cust_rev2016],\n",
    "                   '2017': [ex_cust_rev2017],\n",
    "                   },\n",
    "                  index=['Existing Customer Revenue (Current Year)'])\n",
    "ex_cust_rev"
   ]
  },
  {
   "cell_type": "code",
   "execution_count": 74,
   "metadata": {},
   "outputs": [
    {
     "data": {
      "text/html": [
       "<div>\n",
       "<style scoped>\n",
       "    .dataframe tbody tr th:only-of-type {\n",
       "        vertical-align: middle;\n",
       "    }\n",
       "\n",
       "    .dataframe tbody tr th {\n",
       "        vertical-align: top;\n",
       "    }\n",
       "\n",
       "    .dataframe thead th {\n",
       "        text-align: right;\n",
       "    }\n",
       "</style>\n",
       "<table border=\"1\" class=\"dataframe\">\n",
       "  <thead>\n",
       "    <tr style=\"text-align: right;\">\n",
       "      <th></th>\n",
       "      <th>2016</th>\n",
       "      <th>2017</th>\n",
       "    </tr>\n",
       "  </thead>\n",
       "  <tbody>\n",
       "    <tr>\n",
       "      <th>Existing Customer Revenue (Prior Year)</th>\n",
       "      <td>7465117.12</td>\n",
       "      <td>2620648.65</td>\n",
       "    </tr>\n",
       "  </tbody>\n",
       "</table>\n",
       "</div>"
      ],
      "text/plain": [
       "                                              2016        2017\n",
       "Existing Customer Revenue (Prior Year)  7465117.12  2620648.65"
      ]
     },
     "execution_count": 74,
     "metadata": {},
     "output_type": "execute_result"
    }
   ],
   "source": [
    "# Existing Customer Revenue Prior Year\n",
    "ex_cust_rev_prior2016 = ex_helper2015['Net Revenue'].sum()\n",
    "ex_cust_rev_prior2017 = ex_helper2016['Net Revenue'].sum()\n",
    "\n",
    "ex_cust_rev_p = pd.DataFrame({'2016': [ex_cust_rev_prior2016],\n",
    "                   '2017': [ex_cust_rev_prior2017],\n",
    "                   },\n",
    "                  index=['Existing Customer Revenue (Prior Year)'])\n",
    "ex_cust_rev_p"
   ]
  },
  {
   "cell_type": "code",
   "execution_count": 82,
   "metadata": {},
   "outputs": [
    {
     "data": {
      "text/html": [
       "<div>\n",
       "<style scoped>\n",
       "    .dataframe tbody tr th:only-of-type {\n",
       "        vertical-align: middle;\n",
       "    }\n",
       "\n",
       "    .dataframe tbody tr th {\n",
       "        vertical-align: top;\n",
       "    }\n",
       "\n",
       "    .dataframe thead th {\n",
       "        text-align: right;\n",
       "    }\n",
       "</style>\n",
       "<table border=\"1\" class=\"dataframe\">\n",
       "  <thead>\n",
       "    <tr style=\"text-align: right;\">\n",
       "      <th></th>\n",
       "      <th>2015</th>\n",
       "      <th>2016</th>\n",
       "      <th>2017</th>\n",
       "    </tr>\n",
       "  </thead>\n",
       "  <tbody>\n",
       "    <tr>\n",
       "      <th>Total Customers Current Year</th>\n",
       "      <td>231294</td>\n",
       "      <td>204646</td>\n",
       "      <td>249987</td>\n",
       "    </tr>\n",
       "  </tbody>\n",
       "</table>\n",
       "</div>"
      ],
      "text/plain": [
       "                                2015    2016    2017\n",
       "Total Customers Current Year  231294  204646  249987"
      ]
     },
     "execution_count": 82,
     "metadata": {},
     "output_type": "execute_result"
    }
   ],
   "source": [
    "###  Total Customers Current Year\n",
    "tot_cust2015 = orders2015['CUSTOMER_EMAIL'].count()\n",
    "tot_cust2016 = orders2016['CUSTOMER_EMAIL'].count()\n",
    "tot_cust2017 = orders2017['CUSTOMER_EMAIL'].count()\n",
    "\n",
    "total_cust = pd.DataFrame({'2015': [tot_cust2015],\n",
    "                   '2016': [tot_cust2016],\n",
    "                   '2017': [tot_cust2017]},\n",
    "                  index=['Total Customers Current Year'])\n",
    "total_cust\n"
   ]
  },
  {
   "cell_type": "code",
   "execution_count": 83,
   "metadata": {},
   "outputs": [
    {
     "data": {
      "text/html": [
       "<div>\n",
       "<style scoped>\n",
       "    .dataframe tbody tr th:only-of-type {\n",
       "        vertical-align: middle;\n",
       "    }\n",
       "\n",
       "    .dataframe tbody tr th {\n",
       "        vertical-align: top;\n",
       "    }\n",
       "\n",
       "    .dataframe thead th {\n",
       "        text-align: right;\n",
       "    }\n",
       "</style>\n",
       "<table border=\"1\" class=\"dataframe\">\n",
       "  <thead>\n",
       "    <tr style=\"text-align: right;\">\n",
       "      <th></th>\n",
       "      <th>2015</th>\n",
       "      <th>2016</th>\n",
       "      <th>2017</th>\n",
       "    </tr>\n",
       "  </thead>\n",
       "  <tbody>\n",
       "    <tr>\n",
       "      <th>Total Customers Previous Year</th>\n",
       "      <td>0</td>\n",
       "      <td>231294</td>\n",
       "      <td>204646</td>\n",
       "    </tr>\n",
       "  </tbody>\n",
       "</table>\n",
       "</div>"
      ],
      "text/plain": [
       "                               2015    2016    2017\n",
       "Total Customers Previous Year     0  231294  204646"
      ]
     },
     "execution_count": 83,
     "metadata": {},
     "output_type": "execute_result"
    }
   ],
   "source": [
    "###  Total Customers Previous Year\n",
    "tot_cust2015_prev = 0\n",
    "tot_cust2016_prev = orders2015['CUSTOMER_EMAIL'].count()\n",
    "tot_cust2017_prev = orders2016['CUSTOMER_EMAIL'].count()\n",
    "\n",
    "total_cust_prev = pd.DataFrame({'2015': [tot_cust2015_prev],\n",
    "                   '2016': [tot_cust2016_prev],\n",
    "                   '2017': [tot_cust2017_prev]},\n",
    "                  index=['Total Customers Previous Year'])\n",
    "total_cust_prev\n"
   ]
  },
  {
   "cell_type": "code",
   "execution_count": 86,
   "metadata": {},
   "outputs": [
    {
     "data": {
      "text/html": [
       "<div>\n",
       "<style scoped>\n",
       "    .dataframe tbody tr th:only-of-type {\n",
       "        vertical-align: middle;\n",
       "    }\n",
       "\n",
       "    .dataframe tbody tr th {\n",
       "        vertical-align: top;\n",
       "    }\n",
       "\n",
       "    .dataframe thead th {\n",
       "        text-align: right;\n",
       "    }\n",
       "</style>\n",
       "<table border=\"1\" class=\"dataframe\">\n",
       "  <thead>\n",
       "    <tr style=\"text-align: right;\">\n",
       "      <th></th>\n",
       "      <th>2015</th>\n",
       "      <th>2016</th>\n",
       "      <th>2017</th>\n",
       "    </tr>\n",
       "  </thead>\n",
       "  <tbody>\n",
       "    <tr>\n",
       "      <th>New Customers</th>\n",
       "      <td>231294</td>\n",
       "      <td>145062</td>\n",
       "      <td>228262</td>\n",
       "    </tr>\n",
       "  </tbody>\n",
       "</table>\n",
       "</div>"
      ],
      "text/plain": [
       "                 2015    2016    2017\n",
       "New Customers  231294  145062  228262"
      ]
     },
     "execution_count": 86,
     "metadata": {},
     "output_type": "execute_result"
    }
   ],
   "source": [
    "### New Customers\n",
    "new_cust2015 = orders2015['CUSTOMER_EMAIL'].count()\n",
    "new_cust2016 = len(list(set(emails2016) - set(emails2015)))\n",
    "new_cust2017 = len(list(set(emails2017) - set(emails2016) - set(emails2015)))\n",
    "\n",
    "new_cust = pd.DataFrame({'2015': [new_cust2015],\n",
    "                   '2016': [new_cust2016],\n",
    "                   '2017': [new_cust2017]},\n",
    "                  index=['New Customers'])\n",
    "new_cust\n"
   ]
  },
  {
   "cell_type": "code",
   "execution_count": 89,
   "metadata": {},
   "outputs": [
    {
     "data": {
      "text/html": [
       "<div>\n",
       "<style scoped>\n",
       "    .dataframe tbody tr th:only-of-type {\n",
       "        vertical-align: middle;\n",
       "    }\n",
       "\n",
       "    .dataframe tbody tr th {\n",
       "        vertical-align: top;\n",
       "    }\n",
       "\n",
       "    .dataframe thead th {\n",
       "        text-align: right;\n",
       "    }\n",
       "</style>\n",
       "<table border=\"1\" class=\"dataframe\">\n",
       "  <thead>\n",
       "    <tr style=\"text-align: right;\">\n",
       "      <th></th>\n",
       "      <th>2015</th>\n",
       "      <th>2016</th>\n",
       "      <th>2017</th>\n",
       "    </tr>\n",
       "  </thead>\n",
       "  <tbody>\n",
       "    <tr>\n",
       "      <th>Lost Customers</th>\n",
       "      <td>231294</td>\n",
       "      <td>171710</td>\n",
       "      <td>354631</td>\n",
       "    </tr>\n",
       "  </tbody>\n",
       "</table>\n",
       "</div>"
      ],
      "text/plain": [
       "                  2015    2016    2017\n",
       "Lost Customers  231294  171710  354631"
      ]
     },
     "execution_count": 89,
     "metadata": {},
     "output_type": "execute_result"
    }
   ],
   "source": [
    "### Lost Customers\n",
    "lost_cust2015 = orders2015['CUSTOMER_EMAIL'].count()\n",
    "lost_cust2016 = len(list(set(emails2015) - set(emails2016)))\n",
    "lost_cust2017 = len(list(set.union(set(emails2016) - set(emails2017),(set(emails2015) - set(emails2017)))))\n",
    "\n",
    "lost_cust = pd.DataFrame({'2015': [lost_cust2015],\n",
    "                   '2016': [lost_cust2016],\n",
    "                   '2017': [lost_cust2017]},\n",
    "                  index=['Lost Customers'])\n",
    "lost_cust\n"
   ]
  },
  {
   "cell_type": "code",
   "execution_count": 100,
   "metadata": {},
   "outputs": [
    {
     "data": {
      "text/html": [
       "<div>\n",
       "<style scoped>\n",
       "    .dataframe tbody tr th:only-of-type {\n",
       "        vertical-align: middle;\n",
       "    }\n",
       "\n",
       "    .dataframe tbody tr th {\n",
       "        vertical-align: top;\n",
       "    }\n",
       "\n",
       "    .dataframe thead th {\n",
       "        text-align: right;\n",
       "    }\n",
       "</style>\n",
       "<table border=\"1\" class=\"dataframe\">\n",
       "  <thead>\n",
       "    <tr style=\"text-align: right;\">\n",
       "      <th></th>\n",
       "      <th>Total Revenue</th>\n",
       "      <th>New Customer Revenue</th>\n",
       "      <th>Existing Customer Growth</th>\n",
       "      <th>Attrition</th>\n",
       "      <th>Existing Customer Revenue (Current Year)</th>\n",
       "      <th>Existing Customer Revenue (Prior Year)</th>\n",
       "      <th>Total Customers Current Year</th>\n",
       "      <th>Total Customers Previous Year</th>\n",
       "      <th>New Customers</th>\n",
       "      <th>Lost Customers</th>\n",
       "    </tr>\n",
       "  </thead>\n",
       "  <tbody>\n",
       "    <tr>\n",
       "      <th>2015</th>\n",
       "      <td>29036749.19</td>\n",
       "      <td>0.00</td>\n",
       "      <td>0.000000</td>\n",
       "      <td>0.000000</td>\n",
       "      <td>0.00</td>\n",
       "      <td>0.00</td>\n",
       "      <td>231294.0</td>\n",
       "      <td>0.0</td>\n",
       "      <td>231294.0</td>\n",
       "      <td>231294.0</td>\n",
       "    </tr>\n",
       "    <tr>\n",
       "      <th>2016</th>\n",
       "      <td>25730943.59</td>\n",
       "      <td>18245491.01</td>\n",
       "      <td>0.272406</td>\n",
       "      <td>0.113849</td>\n",
       "      <td>7485452.58</td>\n",
       "      <td>7465117.12</td>\n",
       "      <td>204646.0</td>\n",
       "      <td>231294.0</td>\n",
       "      <td>145062.0</td>\n",
       "      <td>171710.0</td>\n",
       "    </tr>\n",
       "    <tr>\n",
       "      <th>2017</th>\n",
       "      <td>31417495.03</td>\n",
       "      <td>28776235.04</td>\n",
       "      <td>120.581361</td>\n",
       "      <td>-0.221001</td>\n",
       "      <td>2641259.99</td>\n",
       "      <td>2620648.65</td>\n",
       "      <td>249987.0</td>\n",
       "      <td>204646.0</td>\n",
       "      <td>228262.0</td>\n",
       "      <td>354631.0</td>\n",
       "    </tr>\n",
       "  </tbody>\n",
       "</table>\n",
       "</div>"
      ],
      "text/plain": [
       "      Total Revenue  New Customer Revenue  Existing Customer Growth  \\\n",
       "2015    29036749.19                  0.00                  0.000000   \n",
       "2016    25730943.59           18245491.01                  0.272406   \n",
       "2017    31417495.03           28776235.04                120.581361   \n",
       "\n",
       "      Attrition  Existing Customer Revenue (Current Year)  \\\n",
       "2015   0.000000                                      0.00   \n",
       "2016   0.113849                                7485452.58   \n",
       "2017  -0.221001                                2641259.99   \n",
       "\n",
       "      Existing Customer Revenue (Prior Year)  Total Customers Current Year  \\\n",
       "2015                                    0.00                      231294.0   \n",
       "2016                              7465117.12                      204646.0   \n",
       "2017                              2620648.65                      249987.0   \n",
       "\n",
       "      Total Customers Previous Year  New Customers  Lost Customers  \n",
       "2015                            0.0       231294.0        231294.0  \n",
       "2016                       231294.0       145062.0        171710.0  \n",
       "2017                       204646.0       228262.0        354631.0  "
      ]
     },
     "execution_count": 100,
     "metadata": {},
     "output_type": "execute_result"
    }
   ],
   "source": [
    "### Combine all Dataframes into one big one!\n",
    "\n",
    "#frames = [df1, df2, df3]\n",
    "\n",
    "#result = pd.concat(frames)\n",
    "\n",
    "dfs = [total_rev, new_rev, ex_growth, attrition, ex_cust_rev, ex_cust_rev_p, total_cust, total_cust_prev, new_cust, lost_cust]\n",
    "result = pd.concat(dfs)\n",
    "result = result.fillna(0)\n",
    "result = result.transpose()\n",
    "result"
   ]
  },
  {
   "cell_type": "code",
   "execution_count": 123,
   "metadata": {},
   "outputs": [
    {
     "data": {
      "text/plain": [
       "[Text(0.5, 0, 'Total Revenue'),\n",
       " Text(1.5, 0, 'New Customer Revenue'),\n",
       " Text(2.5, 0, 'Existing Customer Growth'),\n",
       " Text(3.5, 0, 'Attrition'),\n",
       " Text(4.5, 0, 'Existing Customer Revenue (Current Year)'),\n",
       " Text(5.5, 0, 'Existing Customer Revenue (Prior Year)'),\n",
       " Text(6.5, 0, 'Total Customers Current Year'),\n",
       " Text(7.5, 0, 'Total Customers Previous Year'),\n",
       " Text(8.5, 0, 'New Customers'),\n",
       " Text(9.5, 0, 'Lost Customers')]"
      ]
     },
     "execution_count": 123,
     "metadata": {},
     "output_type": "execute_result"
    },
    {
     "data": {
      "image/png": "[encoded data removed]",
      "text/plain": [
       "<Figure size 432x288 with 2 Axes>"
      ]
     },
     "metadata": {
      "needs_background": "light"
     },
     "output_type": "display_data"
    }
   ],
   "source": [
    "### This matrix helps us visualize which metrics We calculated are correlated with each other\n",
    "# I am using this to see if there are going to be any clear trends within the data.  \n",
    "# *If there is high correlation between two metrics, I will see the trend more easily this way* \n",
    "\n",
    "import seaborn as sns\n",
    "\n",
    "corr = result.corr()\n",
    "ax = sns.heatmap(\n",
    "    corr, \n",
    "    vmin=-1, vmax=1, center=0,\n",
    "    cmap=sns.diverging_palette(20, 220, n=200),\n",
    "    square=True\n",
    ")\n",
    "\n",
    "ax.set_xticklabels(\n",
    "    ax.get_xticklabels(),\n",
    "    rotation=45,\n",
    "    horizontalalignment='right'\n",
    ")\n",
    "\n",
    "# Some interesting parts of the matrix are:\n",
    "    # Total Customers and Total Revenue for a year is highly correlated with the number of lost customers in that same year,\n",
    "      # which is the opposite of what you may assume\n",
    "    # Total Customers in the previous year highly correlates with Revenue coming from New Customers in that year.\n",
    "      # This makes sense because when there are more new customers, there will likely be more total customers, meaning a potential for greater revenue in that year.\n",
    "    # Attrition is inversely correlated with lsot customers, Total Customers, and Total Revenue.\n",
    "    # New Customers is inversely correlated with Existing Customer Revenue for both the current and prior year.\n",
    "      # New Customers are not factored into the calculations of Existing Customer Revenue, so they will likely not be correlated, or inversely correlated if revenues change\n",
    "        "
   ]
  },
  {
   "cell_type": "code",
   "execution_count": 118,
   "metadata": {},
   "outputs": [
    {
     "data": {
      "image/png": "[encoded data removed]",
      "text/plain": [
       "<Figure size 432x288 with 1 Axes>"
      ]
     },
     "metadata": {
      "needs_background": "light"
     },
     "output_type": "display_data"
    }
   ],
   "source": [
    "import matplotlib.pyplot as plt\n",
    "  \n",
    "plt.plot(result.index, result['New Customers'], label = \"New\")\n",
    "plt.plot(result.index, result['Lost Customers'], label = \"Lost\")\n",
    "plt.legend()\n",
    "plt.show()\n",
    "\n",
    "### This plot shows that every year, the amount of customers that are new never exceed the amount of customers we lose.\n",
    "# This looks bad for future growth, so let's see if growth changes over time"
   ]
  },
  {
   "cell_type": "code",
   "execution_count": 122,
   "metadata": {},
   "outputs": [
    {
     "data": {
      "image/png": "[encoded data removed]",
      "text/plain": [
       "<Figure size 432x288 with 1 Axes>"
      ]
     },
     "metadata": {
      "needs_background": "light"
     },
     "output_type": "display_data"
    }
   ],
   "source": [
    "plt.plot(result.index, result['Existing Customer Growth'], label = \"Total Revenue\")\n",
    "#plt.plot(result.index, result['Total Revenue'], label = \"Total Revenue\")\n",
    "plt.legend()\n",
    "plt.show()\n",
    "\n",
    "#  When graphing customer growth, We see the complete opposite of the trend in the last graph.\n",
    "#     An idea for that is existing customers are spending more than a new customer typically.\n",
    "#     This makes sense that a loyal customer is more likely to spend more than a new customer who never used the product before."
   ]
  }
 ],
 "metadata": {
  "kernelspec": {
   "display_name": "Python 3",
   "language": "python",
   "name": "python3"
  }
 },
 "nbformat": 4,
 "nbformat_minor": 4
}
